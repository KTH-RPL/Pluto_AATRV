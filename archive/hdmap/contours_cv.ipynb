{
 "cells": [
  {
   "cell_type": "code",
   "execution_count": 1,
   "id": "166daf4c-ec82-4b55-b32c-3378d6f3e6a5",
   "metadata": {
    "tags": []
   },
   "outputs": [],
   "source": [
    "import cv2 as cv"
   ]
  },
  {
   "cell_type": "code",
   "execution_count": 2,
   "id": "a65d010e-5d0b-4315-a415-40eb408acb28",
   "metadata": {
    "tags": []
   },
   "outputs": [],
   "source": [
    "import numpy as np"
   ]
  },
  {
   "cell_type": "code",
   "execution_count": 3,
   "id": "2a2f7e3c-3cb1-49c8-acf1-6ee172050be7",
   "metadata": {
    "tags": []
   },
   "outputs": [
    {
     "name": "stdout",
     "output_type": "stream",
     "text": [
      "Jupyter environment detected. Enabling Open3D WebVisualizer.\n",
      "[Open3D INFO] WebRTC GUI backend enabled.\n",
      "[Open3D INFO] WebRTCWindowSystem: HTTP handshake server disabled.\n"
     ]
    }
   ],
   "source": [
    "import open3d"
   ]
  },
  {
   "cell_type": "code",
   "execution_count": 4,
   "id": "1beb992b-edf7-4ef5-8d36-426b7bb85af3",
   "metadata": {
    "tags": []
   },
   "outputs": [],
   "source": [
    "from tqdm import tqdm"
   ]
  },
  {
   "cell_type": "code",
   "execution_count": 5,
   "id": "742fc5cf-8d9e-4eb2-8294-af0659c4ed87",
   "metadata": {},
   "outputs": [],
   "source": [
    "from PIL import Image"
   ]
  },
  {
   "cell_type": "code",
   "execution_count": 29,
   "id": "7d240d10-dbdc-442d-a4f0-6bc5ddc42b2b",
   "metadata": {
    "tags": []
   },
   "outputs": [],
   "source": [
    "def create_point_fill(points, resolution=0.1, accumulation=None):\n",
    "    \"\"\"\n",
    "    Create and save an image of points within a rectangular outline at specified resolution.\n",
    "    \n",
    "    Parameters:\n",
    "    points: List of tuples [(x1,y1), (x2,y2), ...]\n",
    "    resolution: Float, grid cell size\n",
    "    save_path: String, path to save the output image\n",
    "    \"\"\"\n",
    "    # Convert points to numpy array\n",
    "    points = np.array(points)\n",
    "    \n",
    "    # Find min and max values for x and y\n",
    "    x_min, x_max = points[:, 0].min(), points[:, 0].max()\n",
    "    y_min, y_max = points[:, 1].min(), points[:, 1].max()\n",
    "    \n",
    "    # Create grid based on resolution\n",
    "    x_grid = np.arange(x_min, x_max + resolution, resolution)\n",
    "    y_grid = np.arange(y_min, y_max + resolution, resolution)\n",
    "    grid_x, grid_y = np.meshgrid(x_grid, y_grid)\n",
    "    \n",
    "    # Create empty grid\n",
    "    grid = np.zeros((len(y_grid), len(x_grid)))\n",
    "    \n",
    "    # Fill in the points\n",
    "    for point in tqdm(points):\n",
    "        # Find closest grid indices\n",
    "        x_idx = int((point[0] - x_min) / resolution)\n",
    "        y_idx = int((point[1] - y_min) / resolution)\n",
    "        \n",
    "        # Ensure indices are within bounds\n",
    "        x_idx = min(x_idx, len(x_grid) - 1)\n",
    "        y_idx = min(y_idx, len(y_grid) - 1)\n",
    "        \n",
    "        # Mark point on grid\n",
    "        if not accumulation:\n",
    "            grid[y_idx, x_idx] = 1\n",
    "        elif accumulation==\"height\":\n",
    "            grid[y_idx, x_idx] += point[2]\n",
    "        else:\n",
    "            grid[y_idx, x_idx] += 1\n",
    "    return grid\n"
   ]
  },
  {
   "cell_type": "code",
   "execution_count": 35,
   "id": "1f2c6208-952b-41e1-9cc0-826e251176fa",
   "metadata": {
    "tags": []
   },
   "outputs": [],
   "source": [
    "def extract_points_from_image(grid, resolution=0.1, x_min=0, y_min=0):\n",
    "    \"\"\"\n",
    "    Extract points from a heightmap image based on non-zero pixel locations.\n",
    "    \n",
    "    Parameters:\n",
    "    grid: 2D numpy array with height values\n",
    "    resolution: Float, grid cell size\n",
    "    x_min: Float, minimum x coordinate in the original coordinate system\n",
    "    y_min: Float, minimum y coordinate in the original coordinate system\n",
    "    \n",
    "    Returns:\n",
    "    points: List of tuples [(x1, y1, z1), (x2, y2, z2), ...] in the original coordinate system\n",
    "    \"\"\"\n",
    "    import numpy as np\n",
    "    \n",
    "    # Find non-zero pixel locations\n",
    "    y_indices, x_indices = np.nonzero(grid)\n",
    "    \n",
    "    # Convert indices back to original coordinate system\n",
    "    x_coords = x_min + (x_indices * resolution)\n",
    "    y_coords = y_min + (y_indices * resolution)\n",
    "    z_coords = grid[y_indices, x_indices]  # Get height values\n",
    "    \n",
    "    # Combine into points list\n",
    "    points = list(zip(x_coords, y_coords, z_coords))\n",
    "    \n",
    "    return points"
   ]
  },
  {
   "cell_type": "code",
   "execution_count": 8,
   "id": "dd2870c5-5afd-410e-8f16-8be2be8772b2",
   "metadata": {
    "tags": []
   },
   "outputs": [],
   "source": [
    "pcd = open3d.io.read_point_cloud(\"../data/driveable_full.pcd\")"
   ]
  },
  {
   "cell_type": "code",
   "execution_count": 15,
   "id": "5b436444-27a1-47ad-984e-c0ce159d45a9",
   "metadata": {
    "tags": []
   },
   "outputs": [],
   "source": [
    "downpcd = pcd.voxel_down_sample(voxel_size=0.1)"
   ]
  },
  {
   "cell_type": "code",
   "execution_count": 9,
   "id": "6f13c54e-fe60-405d-9f9c-9971ee21d302",
   "metadata": {
    "tags": []
   },
   "outputs": [],
   "source": [
    "downpoints = np.asarray(pcd.points)"
   ]
  },
  {
   "cell_type": "code",
   "execution_count": 10,
   "id": "6c0b56fa-88c5-4e9f-822b-2544849625c0",
   "metadata": {
    "tags": []
   },
   "outputs": [
    {
     "name": "stderr",
     "output_type": "stream",
     "text": [
      "100%|██████████████████████████| 20867679/20867679 [00:16<00:00, 1292129.92it/s]\n"
     ]
    }
   ],
   "source": [
    "grid = create_point_fill(downpoints[:, :2], resolution=0.05)"
   ]
  },
  {
   "cell_type": "code",
   "execution_count": 80,
   "id": "58710657-912e-4375-a5a4-6b8f783a543a",
   "metadata": {},
   "outputs": [
    {
     "name": "stderr",
     "output_type": "stream",
     "text": [
      "100%|██████████████████████████| 20867679/20867679 [00:19<00:00, 1073875.49it/s]\n"
     ]
    }
   ],
   "source": [
    "hgrid = create_point_fill(downpoints, resolution=0.05, accumulation=\"height\")"
   ]
  },
  {
   "cell_type": "code",
   "execution_count": 30,
   "id": "3cf4f8ba-309c-471b-812c-35cafc7b5f2f",
   "metadata": {},
   "outputs": [
    {
     "name": "stderr",
     "output_type": "stream",
     "text": [
      "100%|██████████████████████████| 20867679/20867679 [00:18<00:00, 1113536.31it/s]\n"
     ]
    }
   ],
   "source": [
    "fgrid = create_point_fill(downpoints, resolution=0.05, accumulation=\"count\")"
   ]
  },
  {
   "cell_type": "code",
   "execution_count": 49,
   "id": "845d5054-8b6d-4d0e-a75e-5aec2a8cacd7",
   "metadata": {},
   "outputs": [
    {
     "data": {
      "text/plain": [
       "np.int64(8242855)"
      ]
     },
     "execution_count": 49,
     "metadata": {},
     "output_type": "execute_result"
    }
   ],
   "source": [
    "(fgrid!=0).sum()"
   ]
  },
  {
   "cell_type": "code",
   "execution_count": 82,
   "id": "34a367ea-1714-4e8b-a8e1-459231503984",
   "metadata": {},
   "outputs": [],
   "source": [
    "ground_height = np.divide(hgrid, fgrid+1e-7)"
   ]
  },
  {
   "cell_type": "code",
   "execution_count": 84,
   "id": "25df79ac-f710-4f85-a76b-b6c4fb55c84c",
   "metadata": {},
   "outputs": [
    {
     "data": {
      "text/plain": [
       "np.float64(0.0)"
      ]
     },
     "execution_count": 84,
     "metadata": {},
     "output_type": "execute_result"
    }
   ],
   "source": [
    "ground_height.min()"
   ]
  },
  {
   "cell_type": "code",
   "execution_count": 85,
   "id": "beba31a4-6904-4c32-8d9e-bf3c4edc2a65",
   "metadata": {},
   "outputs": [],
   "source": [
    "np.save(\"../data/ground_height_map.npy\", ground_height)"
   ]
  },
  {
   "cell_type": "code",
   "execution_count": 11,
   "id": "0a2c9e1e-39c9-4371-b9cc-e1529f45ab1a",
   "metadata": {
    "tags": []
   },
   "outputs": [],
   "source": [
    "grid = np.astype(grid*255, np.uint8)"
   ]
  },
  {
   "cell_type": "code",
   "execution_count": 12,
   "id": "f00a2732-aeeb-49b1-baf4-aa6585d15c3f",
   "metadata": {
    "tags": []
   },
   "outputs": [
    {
     "data": {
      "text/plain": [
       "True"
      ]
     },
     "execution_count": 12,
     "metadata": {},
     "output_type": "execute_result"
    }
   ],
   "source": [
    "cv.imwrite(\"driveable_img.jpeg\", grid.squeeze())"
   ]
  },
  {
   "cell_type": "code",
   "execution_count": 13,
   "id": "aa2d812c-524c-40e4-8f21-131fc18a9fa8",
   "metadata": {},
   "outputs": [],
   "source": [
    "img = cv.imread(\"driveable_img.jpeg\", cv.CV_8U)"
   ]
  },
  {
   "cell_type": "code",
   "execution_count": 14,
   "id": "ae077c04-a3da-4015-9ea4-c8426380d763",
   "metadata": {
    "tags": []
   },
   "outputs": [],
   "source": [
    "erosion_size=2\n",
    "erosion_shape=cv.MORPH_RECT\n",
    "element = cv.getStructuringElement(erosion_shape, (2 * erosion_size + 1, 2 * erosion_size + 1),\n",
    "                                       (erosion_size, erosion_size))\n",
    "eimg = cv.dilate(img, element)\n",
    "eimg = cv.dilate(eimg, element)\n",
    "eimg = cv.dilate(eimg, element)\n",
    "eimg = cv.dilate(eimg, element)\n",
    "eimg = cv.dilate(eimg, element)"
   ]
  },
  {
   "cell_type": "code",
   "execution_count": 15,
   "id": "6fe37d32-a34e-4a72-8789-6c3ca580ffe3",
   "metadata": {
    "tags": []
   },
   "outputs": [],
   "source": [
    "dst = cv.Canny(eimg, 50, 200, None, 3)"
   ]
  },
  {
   "cell_type": "code",
   "execution_count": 16,
   "id": "101e7342-6646-4e58-94d6-3c0a20b1fecc",
   "metadata": {},
   "outputs": [
    {
     "data": {
      "text/plain": [
       "True"
      ]
     },
     "execution_count": 16,
     "metadata": {},
     "output_type": "execute_result"
    }
   ],
   "source": [
    "cv.imwrite(\"driveable_img_canny.png\", dst)"
   ]
  },
  {
   "cell_type": "code",
   "execution_count": 17,
   "id": "4088ec9f-bb14-4313-b379-6f1a12a7a752",
   "metadata": {},
   "outputs": [],
   "source": [
    "img = Image.open(\"driveable_img_canny.png\")"
   ]
  },
  {
   "cell_type": "code",
   "execution_count": 18,
   "id": "02793c94-9161-4fc0-8146-02fed35c066e",
   "metadata": {},
   "outputs": [],
   "source": [
    "iarr = np.asarray(img)"
   ]
  },
  {
   "cell_type": "code",
   "execution_count": 34,
   "id": "0de2e25c-98fd-4594-9b45-fb0656179bb7",
   "metadata": {},
   "outputs": [],
   "source": [
    "x_min=downpoints[:, 0].min()\n",
    "y_min=downpoints[:, 1].min()"
   ]
  },
  {
   "cell_type": "code",
   "execution_count": 21,
   "id": "35e2096a-f1ee-4fc6-8ef3-496759b787c2",
   "metadata": {},
   "outputs": [],
   "source": [
    "points = extract_points_from_image(iarr, 0.05, x_min, y_min)"
   ]
  },
  {
   "cell_type": "code",
   "execution_count": 22,
   "id": "00d53324-dc24-4328-9219-cea75531f3e4",
   "metadata": {},
   "outputs": [],
   "source": [
    "points = np.array(points)"
   ]
  },
  {
   "cell_type": "code",
   "execution_count": 23,
   "id": "79085734-afa8-4137-8a6d-fa39b5d82d6b",
   "metadata": {},
   "outputs": [],
   "source": [
    "dpoints = np.hstack([points, np.zeros((points.shape[0], 1))])"
   ]
  },
  {
   "cell_type": "code",
   "execution_count": 24,
   "id": "43d1b7c7-6567-4aac-940c-d7691ddf546a",
   "metadata": {},
   "outputs": [],
   "source": [
    "opoints = open3d.utility.Vector3dVector(dpoints)"
   ]
  },
  {
   "cell_type": "code",
   "execution_count": 25,
   "id": "a95f60bf-ca99-4e5a-96f4-664467a57070",
   "metadata": {},
   "outputs": [],
   "source": [
    "bpcd = open3d.geometry.PointCloud(opoints)"
   ]
  },
  {
   "cell_type": "code",
   "execution_count": 26,
   "id": "2f1f9cad-2846-4f33-ad29-dcf268e8c991",
   "metadata": {},
   "outputs": [
    {
     "data": {
      "text/plain": [
       "True"
      ]
     },
     "execution_count": 26,
     "metadata": {},
     "output_type": "execute_result"
    }
   ],
   "source": [
    "open3d.io.write_point_cloud(\"../data/driveable_boundary_full.pcd\", bpcd)"
   ]
  },
  {
   "cell_type": "code",
   "execution_count": 86,
   "id": "96224516-b256-4203-9cb0-a083b9b9fdc2",
   "metadata": {},
   "outputs": [],
   "source": [
    "points = extract_points_from_image(ground_height, 0.05, x_min, y_min)"
   ]
  },
  {
   "cell_type": "code",
   "execution_count": 87,
   "id": "62d0d863-f74b-4047-b5b4-a10aa9791b12",
   "metadata": {},
   "outputs": [],
   "source": [
    "points = np.array(points)"
   ]
  },
  {
   "cell_type": "code",
   "execution_count": 88,
   "id": "70571a6e-38d9-434c-a40f-234ec9da1229",
   "metadata": {},
   "outputs": [
    {
     "data": {
      "text/plain": [
       "array([[  51.41673889, -183.14494324,   27.33546365],\n",
       "       [  51.36673889, -183.09494324,   27.33309663],\n",
       "       [  51.36673889, -183.04494324,   27.33601869],\n",
       "       ...,\n",
       "       [  87.56673889,  109.15505676,   36.62374512],\n",
       "       [  88.31673889,  109.15505676,   36.6101152 ],\n",
       "       [  87.61673889,  109.20505676,   36.62328354]])"
      ]
     },
     "execution_count": 88,
     "metadata": {},
     "output_type": "execute_result"
    }
   ],
   "source": [
    "points"
   ]
  },
  {
   "cell_type": "code",
   "execution_count": 89,
   "id": "284411fb-b628-4830-83b5-9a0045c69b54",
   "metadata": {},
   "outputs": [],
   "source": [
    "dpoints = points"
   ]
  },
  {
   "cell_type": "code",
   "execution_count": 90,
   "id": "e97a08ab-812b-4d04-82e8-ad6493aae684",
   "metadata": {},
   "outputs": [
    {
     "data": {
      "text/plain": [
       "array([[  51.41673889, -183.14494324,   27.33546365],\n",
       "       [  51.36673889, -183.09494324,   27.33309663],\n",
       "       [  51.36673889, -183.04494324,   27.33601869],\n",
       "       ...,\n",
       "       [  87.56673889,  109.15505676,   36.62374512],\n",
       "       [  88.31673889,  109.15505676,   36.6101152 ],\n",
       "       [  87.61673889,  109.20505676,   36.62328354]])"
      ]
     },
     "execution_count": 90,
     "metadata": {},
     "output_type": "execute_result"
    }
   ],
   "source": [
    "dpoints"
   ]
  },
  {
   "cell_type": "code",
   "execution_count": 91,
   "id": "dbd4466e-5691-471a-b04f-087e2d773ba6",
   "metadata": {},
   "outputs": [],
   "source": [
    "opoints = open3d.utility.Vector3dVector(dpoints)"
   ]
  },
  {
   "cell_type": "code",
   "execution_count": 92,
   "id": "4bc50e74-30ac-4b51-bad3-3984980b24c7",
   "metadata": {},
   "outputs": [],
   "source": [
    "bpcd = open3d.geometry.PointCloud(opoints)"
   ]
  },
  {
   "cell_type": "code",
   "execution_count": 93,
   "id": "40502025-0a32-45a1-a03a-ae47be2c848a",
   "metadata": {},
   "outputs": [
    {
     "data": {
      "text/plain": [
       "True"
      ]
     },
     "execution_count": 93,
     "metadata": {},
     "output_type": "execute_result"
    }
   ],
   "source": [
    "open3d.io.write_point_cloud(\"../data/driveable_ground_height.pcd\", bpcd)"
   ]
  },
  {
   "cell_type": "code",
   "execution_count": 94,
   "id": "8d49384f-439f-437e-b738-8b6ed3494154",
   "metadata": {},
   "outputs": [
    {
     "data": {
      "text/plain": [
       "np.int64(0)"
      ]
     },
     "execution_count": 94,
     "metadata": {},
     "output_type": "execute_result"
    }
   ],
   "source": [
    "sum(dpoints[:, 2]==0.9999999000000099)"
   ]
  },
  {
   "cell_type": "code",
   "execution_count": 95,
   "id": "e44ffcdd-f7e2-4206-92c5-612587a1816a",
   "metadata": {},
   "outputs": [
    {
     "data": {
      "text/plain": [
       "np.float64(58.236108678342255)"
      ]
     },
     "execution_count": 95,
     "metadata": {},
     "output_type": "execute_result"
    }
   ],
   "source": [
    "dpoints[:, 2].max()"
   ]
  },
  {
   "cell_type": "code",
   "execution_count": 96,
   "id": "60c0b2df-f250-41c0-a564-7a9815a964a0",
   "metadata": {},
   "outputs": [
    {
     "data": {
      "text/plain": [
       "np.float64(23.25882869828705)"
      ]
     },
     "execution_count": 96,
     "metadata": {},
     "output_type": "execute_result"
    }
   ],
   "source": [
    "dpoints[:, 2].min()"
   ]
  },
  {
   "cell_type": "code",
   "execution_count": null,
   "id": "a3ddcb31-7dcf-4ab4-85b4-1dafe6aff875",
   "metadata": {},
   "outputs": [],
   "source": []
  }
 ],
 "metadata": {
  "kernelspec": {
   "display_name": "py311",
   "language": "python",
   "name": "py311"
  },
  "language_info": {
   "codemirror_mode": {
    "name": "ipython",
    "version": 3
   },
   "file_extension": ".py",
   "mimetype": "text/x-python",
   "name": "python",
   "nbconvert_exporter": "python",
   "pygments_lexer": "ipython3",
   "version": "3.11.11"
  }
 },
 "nbformat": 4,
 "nbformat_minor": 5
}
